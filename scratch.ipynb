{
 "cells": [
  {
   "cell_type": "code",
   "execution_count": 1,
   "metadata": {},
   "outputs": [],
   "source": [
    "import io\n",
    "import urllib.request\n",
    "import zipfile\n",
    "\n",
    "import numpy as np\n",
    "import pandas as pd"
   ]
  },
  {
   "cell_type": "markdown",
   "metadata": {},
   "source": [
    "# TODO: distill into two scripts (/project/scripts/fetch_surnames.py and fetch_geographic.py)\n",
    "\n",
    "if __name__ != '__main__':\n",
    "    raise Exception('You should not import this as a module. It is a setup script.')."
   ]
  },
  {
   "cell_type": "markdown",
   "metadata": {},
   "source": [
    "# Fetch, clean, and copy surname data"
   ]
  },
  {
   "cell_type": "code",
   "execution_count": 3,
   "metadata": {},
   "outputs": [],
   "source": [
    "CENSUS_SURNAME_COLUMNS = [\n",
    "    'name',\n",
    "    'rank',\n",
    "    'count',\n",
    "    'proportion',\n",
    "    'cum_proportion',\n",
    "    'white',\n",
    "    'black',\n",
    "    'asian',\n",
    "    'native',\n",
    "    'multiple',\n",
    "    'hispanic',\n",
    "]\n",
    "\n",
    "TARGET_SURNAME_COLUMNS = [\n",
    "    'name',\n",
    "    'white',\n",
    "    'black',\n",
    "    'asian',\n",
    "    'native',\n",
    "    'multiple',\n",
    "    'hispanic',\n",
    "]"
   ]
  },
  {
   "cell_type": "markdown",
   "metadata": {},
   "source": [
    "## Download Surname Data"
   ]
  },
  {
   "cell_type": "code",
   "execution_count": 4,
   "metadata": {},
   "outputs": [],
   "source": [
    "def url_to_df(url):\n",
    "    '''Takes the URL of a Census zip file and converts to DF\n",
    "    \n",
    "    Note: it appears the Census webservers rate limit this so it\n",
    "    may take some time.\n",
    "    \n",
    "    '''\n",
    "    # Download zipfile from census URL\n",
    "    with urllib.request.urlopen(url) as response:\n",
    "        # Write file into BytesIO object\n",
    "        zip_data = io.BytesIO(response.read())\n",
    "        # Open zip data as zipfile\n",
    "        with zipfile.ZipFile(zip_data) as zf:\n",
    "            # Filter out everything except the ZipInfo for csv we want\n",
    "            csv_info = [file for file in zf.filelist if '.csv' in file.filename][0]\n",
    "            # Read that CSV into BytesIO object\n",
    "            raw_data = io.BytesIO(zf.read(csv_info))\n",
    "            # Create dataframe with only suppressed '(S)' converted to NA\n",
    "            df = pd.read_csv(raw_data, na_values='(S)', keep_default_na=False)\n",
    "            return df"
   ]
  },
  {
   "cell_type": "code",
   "execution_count": 5,
   "metadata": {},
   "outputs": [],
   "source": [
    "df_2000 = url_to_df('https://www2.census.gov/topics/genealogy/2000surnames/names.zip')\n",
    "df_2010 = url_to_df('https://www2.census.gov/topics/genealogy/2010surnames/names.zip')"
   ]
  },
  {
   "cell_type": "code",
   "execution_count": 6,
   "metadata": {},
   "outputs": [],
   "source": [
    "def clean_df(df):\n",
    "    '''Change column names, set index, and convert percentages'''\n",
    "    # Change names\n",
    "    df.columns = CENSUS_SURNAME_COLUMNS\n",
    "    # Filter columns\n",
    "    df = df[TARGET_SURNAME_COLUMNS]\n",
    "    # Set index to name\n",
    "    df = df.set_index('name')\n",
    "    # Sort index\n",
    "    df = df.sort_index()\n",
    "    # Convert percentages to 0 to 1 numbers\n",
    "    df = df / 100\n",
    "    return df"
   ]
  },
  {
   "cell_type": "code",
   "execution_count": 7,
   "metadata": {},
   "outputs": [],
   "source": [
    "df_2000 = clean_df(df_2000)\n",
    "df_2010 = clean_df(df_2010)"
   ]
  },
  {
   "cell_type": "code",
   "execution_count": 8,
   "metadata": {},
   "outputs": [],
   "source": [
    "def unsuppress_row(row):\n",
    "    '''Apply function to desuppress data on row-basis\n",
    "    \n",
    "    If a percentage falls beneath a certain threshold, the\n",
    "    US Census quasi-anonymizes it by supressing. To impute\n",
    "    new values, we get the outstanding allocated percentage\n",
    "    and divy it up among the suppressed fields.\n",
    "    \n",
    "    '''\n",
    "    # Check if row has NA values\n",
    "    if row.isna().sum() > 0:\n",
    "        # Get count of NA values\n",
    "        na_count = row.isna().sum()\n",
    "        # Get total of percentages\n",
    "        row_sum = row.sum()\n",
    "        # Get unallocated percentage and divide by count of NA\n",
    "        na_value = (1 - row_sum) / na_count\n",
    "        # Fill NA values with that row value.\n",
    "        reconstituted_row = row.fillna(na_value)\n",
    "        # Round if necessary\n",
    "        return reconstituted_row.round(4)\n",
    "    else:\n",
    "        # If there's no NA, there's no need to impute\n",
    "        return row"
   ]
  },
  {
   "cell_type": "code",
   "execution_count": 14,
   "metadata": {},
   "outputs": [],
   "source": [
    "# Get rows with NaNs\n",
    "target_2000 = df_2000.isna().any(axis=1)\n",
    "# Run this inefficient operation on rows with NaNs only\n",
    "df_2000.loc[target_2000] = (\n",
    "    df_2000.loc[target_2000].apply(unsuppress_row, axis=1)\n",
    ")\n",
    "\n",
    "# Get rows with NaNs\n",
    "target_2010 = df_2010.isna().any(axis=1)\n",
    "# Run this inefficient operation on rows with NaNs only\n",
    "df_2010.loc[target_2010] = (\n",
    "    df_2010.loc[target_2010].apply(unsuppress_row, axis=1)\n",
    ")"
   ]
  },
  {
   "cell_type": "code",
   "execution_count": 11,
   "metadata": {
    "scrolled": false
   },
   "outputs": [
    {
     "ename": "Exception",
     "evalue": "Tripwire. Below is junk",
     "output_type": "error",
     "traceback": [
      "\u001b[1;31m---------------------------------------------------------------------------\u001b[0m",
      "\u001b[1;31mException\u001b[0m                                 Traceback (most recent call last)",
      "\u001b[1;32m<ipython-input-11-4f89c7b2cc53>\u001b[0m in \u001b[0;36m<module>\u001b[1;34m\u001b[0m\n\u001b[1;32m----> 1\u001b[1;33m \u001b[1;32mraise\u001b[0m \u001b[0mException\u001b[0m\u001b[1;33m(\u001b[0m\u001b[1;34m'Tripwire. Below is junk'\u001b[0m\u001b[1;33m)\u001b[0m\u001b[1;33m\u001b[0m\u001b[1;33m\u001b[0m\u001b[0m\n\u001b[0m",
      "\u001b[1;31mException\u001b[0m: Tripwire. Below is junk"
     ]
    }
   ],
   "source": [
    "raise Exception('Tripwire. Below is junk')"
   ]
  },
  {
   "cell_type": "code",
   "execution_count": null,
   "metadata": {},
   "outputs": [],
   "source": []
  },
  {
   "cell_type": "code",
   "execution_count": null,
   "metadata": {},
   "outputs": [],
   "source": []
  },
  {
   "cell_type": "code",
   "execution_count": null,
   "metadata": {},
   "outputs": [],
   "source": []
  },
  {
   "cell_type": "code",
   "execution_count": null,
   "metadata": {},
   "outputs": [],
   "source": []
  }
 ],
 "metadata": {
  "kernelspec": {
   "display_name": "Python 3",
   "language": "python",
   "name": "python3"
  },
  "language_info": {
   "codemirror_mode": {
    "name": "ipython",
    "version": 3
   },
   "file_extension": ".py",
   "mimetype": "text/x-python",
   "name": "python",
   "nbconvert_exporter": "python",
   "pygments_lexer": "ipython3",
   "version": "3.7.3"
  }
 },
 "nbformat": 4,
 "nbformat_minor": 2
}
