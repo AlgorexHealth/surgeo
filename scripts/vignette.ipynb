{
 "cells": [
  {
   "cell_type": "code",
   "execution_count": 1,
   "metadata": {},
   "outputs": [],
   "source": [
    "import pathlib\n",
    "import sys\n",
    "\n",
    "import numpy as np\n",
    "import pandas as pd"
   ]
  },
  {
   "cell_type": "code",
   "execution_count": 2,
   "metadata": {},
   "outputs": [],
   "source": [
    "current_directory = pathlib.Path().cwd()\n",
    "project_directory = current_directory.parents[0]\n",
    "sys.path.append(str(project_directory.resolve()))"
   ]
  },
  {
   "cell_type": "code",
   "execution_count": 3,
   "metadata": {},
   "outputs": [
    {
     "data": {
      "text/plain": [
       "'2010.1.1'"
      ]
     },
     "execution_count": 3,
     "metadata": {},
     "output_type": "execute_result"
    }
   ],
   "source": [
    "import surgeo\n",
    "surgeo.VERSION"
   ]
  },
  {
   "cell_type": "code",
   "execution_count": 4,
   "metadata": {},
   "outputs": [],
   "source": [
    "g = surgeo.GeocodeModel()\n",
    "s = surgeo.SurnameModel()\n",
    "sg = surgeo.SurgeoModel()"
   ]
  },
  {
   "cell_type": "code",
   "execution_count": 18,
   "metadata": {},
   "outputs": [],
   "source": [
    "surnames = pd.Series([\n",
    "    'WASHINGTON',\n",
    "    'DAVIDSON',\n",
    "    12345,\n",
    "    np.NaN\n",
    "])"
   ]
  },
  {
   "cell_type": "code",
   "execution_count": 21,
   "metadata": {},
   "outputs": [],
   "source": [
    "zips = pd.Series([\n",
    "    '63110',\n",
    "    99602,\n",
    "    np.NaN,\n",
    "    63144\n",
    "])"
   ]
  },
  {
   "cell_type": "code",
   "execution_count": 22,
   "metadata": {},
   "outputs": [
    {
     "data": {
      "text/html": [
       "<div>\n",
       "<style scoped>\n",
       "    .dataframe tbody tr th:only-of-type {\n",
       "        vertical-align: middle;\n",
       "    }\n",
       "\n",
       "    .dataframe tbody tr th {\n",
       "        vertical-align: top;\n",
       "    }\n",
       "\n",
       "    .dataframe thead th {\n",
       "        text-align: right;\n",
       "    }\n",
       "</style>\n",
       "<table border=\"1\" class=\"dataframe\">\n",
       "  <thead>\n",
       "    <tr style=\"text-align: right;\">\n",
       "      <th></th>\n",
       "      <th>name</th>\n",
       "      <th>white</th>\n",
       "      <th>black</th>\n",
       "      <th>api</th>\n",
       "      <th>native</th>\n",
       "      <th>multiple</th>\n",
       "      <th>hispanic</th>\n",
       "    </tr>\n",
       "  </thead>\n",
       "  <tbody>\n",
       "    <tr>\n",
       "      <th>0</th>\n",
       "      <td>WASHINGTON</td>\n",
       "      <td>0.0517</td>\n",
       "      <td>0.8753</td>\n",
       "      <td>0.0030</td>\n",
       "      <td>0.0068</td>\n",
       "      <td>0.0378</td>\n",
       "      <td>0.0254</td>\n",
       "    </tr>\n",
       "    <tr>\n",
       "      <th>1</th>\n",
       "      <td>DAVIDSON</td>\n",
       "      <td>0.8438</td>\n",
       "      <td>0.1008</td>\n",
       "      <td>0.0065</td>\n",
       "      <td>0.0065</td>\n",
       "      <td>0.0188</td>\n",
       "      <td>0.0235</td>\n",
       "    </tr>\n",
       "    <tr>\n",
       "      <th>2</th>\n",
       "      <td></td>\n",
       "      <td>NaN</td>\n",
       "      <td>NaN</td>\n",
       "      <td>NaN</td>\n",
       "      <td>NaN</td>\n",
       "      <td>NaN</td>\n",
       "      <td>NaN</td>\n",
       "    </tr>\n",
       "    <tr>\n",
       "      <th>3</th>\n",
       "      <td></td>\n",
       "      <td>NaN</td>\n",
       "      <td>NaN</td>\n",
       "      <td>NaN</td>\n",
       "      <td>NaN</td>\n",
       "      <td>NaN</td>\n",
       "      <td>NaN</td>\n",
       "    </tr>\n",
       "  </tbody>\n",
       "</table>\n",
       "</div>"
      ],
      "text/plain": [
       "         name   white   black     api  native  multiple  hispanic\n",
       "0  WASHINGTON  0.0517  0.8753  0.0030  0.0068    0.0378    0.0254\n",
       "1    DAVIDSON  0.8438  0.1008  0.0065  0.0065    0.0188    0.0235\n",
       "2                 NaN     NaN     NaN     NaN       NaN       NaN\n",
       "3                 NaN     NaN     NaN     NaN       NaN       NaN"
      ]
     },
     "execution_count": 22,
     "metadata": {},
     "output_type": "execute_result"
    }
   ],
   "source": [
    "s.get_probabilities(surnames)"
   ]
  },
  {
   "cell_type": "code",
   "execution_count": 23,
   "metadata": {},
   "outputs": [
    {
     "data": {
      "text/html": [
       "<div>\n",
       "<style scoped>\n",
       "    .dataframe tbody tr th:only-of-type {\n",
       "        vertical-align: middle;\n",
       "    }\n",
       "\n",
       "    .dataframe tbody tr th {\n",
       "        vertical-align: top;\n",
       "    }\n",
       "\n",
       "    .dataframe thead th {\n",
       "        text-align: right;\n",
       "    }\n",
       "</style>\n",
       "<table border=\"1\" class=\"dataframe\">\n",
       "  <thead>\n",
       "    <tr style=\"text-align: right;\">\n",
       "      <th></th>\n",
       "      <th>zcta5</th>\n",
       "      <th>white</th>\n",
       "      <th>black</th>\n",
       "      <th>api</th>\n",
       "      <th>native</th>\n",
       "      <th>multiple</th>\n",
       "      <th>hispanic</th>\n",
       "    </tr>\n",
       "  </thead>\n",
       "  <tbody>\n",
       "    <tr>\n",
       "      <th>0</th>\n",
       "      <td>63110</td>\n",
       "      <td>0.518377</td>\n",
       "      <td>0.401548</td>\n",
       "      <td>0.031772</td>\n",
       "      <td>0.001817</td>\n",
       "      <td>0.024269</td>\n",
       "      <td>0.022217</td>\n",
       "    </tr>\n",
       "    <tr>\n",
       "      <th>1</th>\n",
       "      <td>99602</td>\n",
       "      <td>0.044944</td>\n",
       "      <td>0.000000</td>\n",
       "      <td>0.000000</td>\n",
       "      <td>0.915730</td>\n",
       "      <td>0.039326</td>\n",
       "      <td>0.000000</td>\n",
       "    </tr>\n",
       "    <tr>\n",
       "      <th>2</th>\n",
       "      <td>NaN</td>\n",
       "      <td>NaN</td>\n",
       "      <td>NaN</td>\n",
       "      <td>NaN</td>\n",
       "      <td>NaN</td>\n",
       "      <td>NaN</td>\n",
       "      <td>NaN</td>\n",
       "    </tr>\n",
       "    <tr>\n",
       "      <th>3</th>\n",
       "      <td>63144</td>\n",
       "      <td>0.861114</td>\n",
       "      <td>0.028935</td>\n",
       "      <td>0.062862</td>\n",
       "      <td>0.001248</td>\n",
       "      <td>0.016907</td>\n",
       "      <td>0.028935</td>\n",
       "    </tr>\n",
       "  </tbody>\n",
       "</table>\n",
       "</div>"
      ],
      "text/plain": [
       "   zcta5     white     black       api    native  multiple  hispanic\n",
       "0  63110  0.518377  0.401548  0.031772  0.001817  0.024269  0.022217\n",
       "1  99602  0.044944  0.000000  0.000000  0.915730  0.039326  0.000000\n",
       "2    NaN       NaN       NaN       NaN       NaN       NaN       NaN\n",
       "3  63144  0.861114  0.028935  0.062862  0.001248  0.016907  0.028935"
      ]
     },
     "execution_count": 23,
     "metadata": {},
     "output_type": "execute_result"
    }
   ],
   "source": [
    "g.get_probabilities(zips)"
   ]
  },
  {
   "cell_type": "code",
   "execution_count": 24,
   "metadata": {},
   "outputs": [
    {
     "data": {
      "text/html": [
       "<div>\n",
       "<style scoped>\n",
       "    .dataframe tbody tr th:only-of-type {\n",
       "        vertical-align: middle;\n",
       "    }\n",
       "\n",
       "    .dataframe tbody tr th {\n",
       "        vertical-align: top;\n",
       "    }\n",
       "\n",
       "    .dataframe thead th {\n",
       "        text-align: right;\n",
       "    }\n",
       "</style>\n",
       "<table border=\"1\" class=\"dataframe\">\n",
       "  <thead>\n",
       "    <tr style=\"text-align: right;\">\n",
       "      <th></th>\n",
       "      <th>zcta5</th>\n",
       "      <th>name</th>\n",
       "      <th>white</th>\n",
       "      <th>black</th>\n",
       "      <th>api</th>\n",
       "      <th>native</th>\n",
       "      <th>multiple</th>\n",
       "      <th>hispanic</th>\n",
       "    </tr>\n",
       "  </thead>\n",
       "  <tbody>\n",
       "    <tr>\n",
       "      <th>0</th>\n",
       "      <td>63110</td>\n",
       "      <td>WASHINGTON</td>\n",
       "      <td>0.0141</td>\n",
       "      <td>0.9676</td>\n",
       "      <td>0.0007</td>\n",
       "      <td>0.0006</td>\n",
       "      <td>0.0159</td>\n",
       "      <td>0.0011</td>\n",
       "    </tr>\n",
       "    <tr>\n",
       "      <th>1</th>\n",
       "      <td>99602</td>\n",
       "      <td>DAVIDSON</td>\n",
       "      <td>0.0649</td>\n",
       "      <td>0.0000</td>\n",
       "      <td>0.0000</td>\n",
       "      <td>0.8933</td>\n",
       "      <td>0.0417</td>\n",
       "      <td>0.0000</td>\n",
       "    </tr>\n",
       "    <tr>\n",
       "      <th>2</th>\n",
       "      <td>NaN</td>\n",
       "      <td></td>\n",
       "      <td>NaN</td>\n",
       "      <td>NaN</td>\n",
       "      <td>NaN</td>\n",
       "      <td>NaN</td>\n",
       "      <td>NaN</td>\n",
       "      <td>NaN</td>\n",
       "    </tr>\n",
       "    <tr>\n",
       "      <th>3</th>\n",
       "      <td>63144</td>\n",
       "      <td></td>\n",
       "      <td>NaN</td>\n",
       "      <td>NaN</td>\n",
       "      <td>NaN</td>\n",
       "      <td>NaN</td>\n",
       "      <td>NaN</td>\n",
       "      <td>NaN</td>\n",
       "    </tr>\n",
       "  </tbody>\n",
       "</table>\n",
       "</div>"
      ],
      "text/plain": [
       "   zcta5        name   white   black     api  native  multiple  hispanic\n",
       "0  63110  WASHINGTON  0.0141  0.9676  0.0007  0.0006    0.0159    0.0011\n",
       "1  99602    DAVIDSON  0.0649  0.0000  0.0000  0.8933    0.0417    0.0000\n",
       "2    NaN                 NaN     NaN     NaN     NaN       NaN       NaN\n",
       "3  63144                 NaN     NaN     NaN     NaN       NaN       NaN"
      ]
     },
     "execution_count": 24,
     "metadata": {},
     "output_type": "execute_result"
    }
   ],
   "source": [
    "sg.get_probabilities(surnames, zips)"
   ]
  },
  {
   "cell_type": "markdown",
   "metadata": {},
   "source": [
    "$\n",
    "q(i \\mid j,k) = \\frac\n",
    "    {\\large{u(i,j,k)}}\n",
    "    {\\large{u(1,j,k) \\; + \\; u(2,j,k) \\; + \\; u(3,j,k) \\; + \\; u(4,j,k) \\; + \\; u(5,j,k) \\; + \\; u(6,j,k)}} \\\\[25px]\n",
    "\\text{Where:} \\\\[25px]\n",
    "\\hspace{25px} u(i,j,k) = P(i \\mid j) \\times r(k \\mid i)\\\\[25px]\n",
    "\\text{And where:} \\\\[25px]\n",
    "    \\hspace{25px}\\text{\\( P(i \\mid j) \\) is the probability of a selected race given surname} \\\\\n",
    "    \\hspace{25px}\\text{\\( r(k \\mid i) \\) is the probability of a selected ZCTA of residence given race} \\\\\n",
    "    \\hspace{25px}\\text{\\( k \\) is Census Block} \\\\\n",
    "    \\hspace{25px}\\text{\\( j \\) is Surname} \\\\\n",
    "    \\hspace{25px}\\text{\\( i \\) is Race} \\\\\n",
    "        \\hspace{50px}\\text{1 = Hispanic} \\\\\n",
    "        \\hspace{50px}\\text{2 = White} \\\\\n",
    "        \\hspace{50px}\\text{3 = Black} \\\\\n",
    "        \\hspace{50px}\\text{4 = Asian or Pacific Islander} \\\\\n",
    "        \\hspace{50px}\\text{5 = American Indian / Alaska Native} \\\\\n",
    "        \\hspace{50px}\\text{6 = Multiracial} \\\\\n",
    "$"
   ]
  },
  {
   "cell_type": "markdown",
   "metadata": {},
   "source": [
    "    Where k is census block\n",
    "    Where j is surname\n",
    "    Where i is race (1 = Hispanic, \n",
    "                     2 = White, \n",
    "                     3 = Black, \n",
    "                     4 = Asian or Pacific Islander, \n",
    "                     5 = American Indian / Alaska Native, \n",
    "                     6 = Multiracial)\n",
    "\n",
    "    Where u(i,j,k) = p(i|j) * r(k|i):\n",
    "\n",
    "                                          u(i,j,k)\n",
    "    q(i|j,k) = ---------------------------------------------------------------\n",
    "               u(1,j,k) + u(2,j,k) + u(3,j,k) + u(4,j,k) + u(5,j,k) + u(6,j,k)"
   ]
  },
  {
   "cell_type": "code",
   "execution_count": null,
   "metadata": {},
   "outputs": [],
   "source": []
  }
 ],
 "metadata": {
  "kernelspec": {
   "display_name": "Python 3",
   "language": "python",
   "name": "python3"
  },
  "language_info": {
   "codemirror_mode": {
    "name": "ipython",
    "version": 3
   },
   "file_extension": ".py",
   "mimetype": "text/x-python",
   "name": "python",
   "nbconvert_exporter": "python",
   "pygments_lexer": "ipython3",
   "version": "3.7.3"
  }
 },
 "nbformat": 4,
 "nbformat_minor": 2
}
