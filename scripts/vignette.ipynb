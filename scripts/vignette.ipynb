{
 "cells": [
  {
   "cell_type": "code",
   "execution_count": 1,
   "metadata": {},
   "outputs": [],
   "source": [
    "import pathlib\n",
    "import sys\n",
    "\n",
    "import numpy as np\n",
    "import pandas as pd"
   ]
  },
  {
   "cell_type": "code",
   "execution_count": 2,
   "metadata": {},
   "outputs": [],
   "source": [
    "current_directory = pathlib.Path().cwd()\n",
    "project_directory = current_directory.parents[0]\n",
    "sys.path.append(str(project_directory.resolve()))"
   ]
  },
  {
   "cell_type": "code",
   "execution_count": 3,
   "metadata": {},
   "outputs": [
    {
     "data": {
      "text/plain": [
       "'1.1.0'"
      ]
     },
     "execution_count": 3,
     "metadata": {},
     "output_type": "execute_result"
    }
   ],
   "source": [
    "import surgeo\n",
    "surgeo.VERSION"
   ]
  },
  {
   "cell_type": "code",
   "execution_count": 4,
   "metadata": {},
   "outputs": [],
   "source": [
    "fsg = surgeo.BIFSGModel()\n",
    "f = surgeo.FirstNameModel()\n",
    "g = surgeo.GeocodeModel()\n",
    "s = surgeo.SurnameModel()\n",
    "sg = surgeo.SurgeoModel()"
   ]
  },
  {
   "cell_type": "code",
   "execution_count": 5,
   "metadata": {},
   "outputs": [],
   "source": [
    "first_names = pd.Series([\n",
    "    'HECTOR',\n",
    "    'PHILLIP',\n",
    "    'JANICE'\n",
    "])"
   ]
  },
  {
   "cell_type": "code",
   "execution_count": 6,
   "metadata": {},
   "outputs": [],
   "source": [
    "surnames = pd.Series([\n",
    "    'DIAZ',\n",
    "    'JOHNSON',\n",
    "    'WASHINGTON',\n",
    "])"
   ]
  },
  {
   "cell_type": "code",
   "execution_count": 7,
   "metadata": {},
   "outputs": [],
   "source": [
    "zctas = pd.Series([\n",
    "    '65201',\n",
    "    '63144',\n",
    "    '63110',\n",
    "])"
   ]
  },
  {
   "cell_type": "code",
   "execution_count": 8,
   "metadata": {},
   "outputs": [
    {
     "data": {
      "text/html": [
       "<div>\n",
       "<style scoped>\n",
       "    .dataframe tbody tr th:only-of-type {\n",
       "        vertical-align: middle;\n",
       "    }\n",
       "\n",
       "    .dataframe tbody tr th {\n",
       "        vertical-align: top;\n",
       "    }\n",
       "\n",
       "    .dataframe thead th {\n",
       "        text-align: right;\n",
       "    }\n",
       "</style>\n",
       "<table border=\"1\" class=\"dataframe\">\n",
       "  <thead>\n",
       "    <tr style=\"text-align: right;\">\n",
       "      <th></th>\n",
       "      <th>zcta5</th>\n",
       "      <th>first_name</th>\n",
       "      <th>surname</th>\n",
       "      <th>white</th>\n",
       "      <th>black</th>\n",
       "      <th>api</th>\n",
       "      <th>native</th>\n",
       "      <th>multiple</th>\n",
       "      <th>hispanic</th>\n",
       "    </tr>\n",
       "  </thead>\n",
       "  <tbody>\n",
       "    <tr>\n",
       "      <th>0</th>\n",
       "      <td>65201</td>\n",
       "      <td>HECTOR</td>\n",
       "      <td>DIAZ</td>\n",
       "      <td>0.003834</td>\n",
       "      <td>0.000225</td>\n",
       "      <td>0.000688</td>\n",
       "      <td>0.000000</td>\n",
       "      <td>0.000000</td>\n",
       "      <td>0.995253</td>\n",
       "    </tr>\n",
       "    <tr>\n",
       "      <th>1</th>\n",
       "      <td>63144</td>\n",
       "      <td>PHILLIP</td>\n",
       "      <td>JOHNSON</td>\n",
       "      <td>0.923162</td>\n",
       "      <td>0.050272</td>\n",
       "      <td>0.001017</td>\n",
       "      <td>0.001100</td>\n",
       "      <td>0.023515</td>\n",
       "      <td>0.000935</td>\n",
       "    </tr>\n",
       "    <tr>\n",
       "      <th>2</th>\n",
       "      <td>63110</td>\n",
       "      <td>JANICE</td>\n",
       "      <td>WASHINGTON</td>\n",
       "      <td>0.017885</td>\n",
       "      <td>0.968260</td>\n",
       "      <td>0.000059</td>\n",
       "      <td>0.000356</td>\n",
       "      <td>0.013339</td>\n",
       "      <td>0.000101</td>\n",
       "    </tr>\n",
       "  </tbody>\n",
       "</table>\n",
       "</div>"
      ],
      "text/plain": [
       "   zcta5 first_name     surname     white     black       api    native  \\\n",
       "0  65201     HECTOR        DIAZ  0.003834  0.000225  0.000688  0.000000   \n",
       "1  63144    PHILLIP     JOHNSON  0.923162  0.050272  0.001017  0.001100   \n",
       "2  63110     JANICE  WASHINGTON  0.017885  0.968260  0.000059  0.000356   \n",
       "\n",
       "   multiple  hispanic  \n",
       "0  0.000000  0.995253  \n",
       "1  0.023515  0.000935  \n",
       "2  0.013339  0.000101  "
      ]
     },
     "execution_count": 8,
     "metadata": {},
     "output_type": "execute_result"
    }
   ],
   "source": [
    "fsg.get_probabilities(first_names, surnames, zctas)"
   ]
  },
  {
   "cell_type": "code",
   "execution_count": 9,
   "metadata": {},
   "outputs": [
    {
     "data": {
      "text/html": [
       "<div>\n",
       "<style scoped>\n",
       "    .dataframe tbody tr th:only-of-type {\n",
       "        vertical-align: middle;\n",
       "    }\n",
       "\n",
       "    .dataframe tbody tr th {\n",
       "        vertical-align: top;\n",
       "    }\n",
       "\n",
       "    .dataframe thead th {\n",
       "        text-align: right;\n",
       "    }\n",
       "</style>\n",
       "<table border=\"1\" class=\"dataframe\">\n",
       "  <thead>\n",
       "    <tr style=\"text-align: right;\">\n",
       "      <th></th>\n",
       "      <th>name</th>\n",
       "      <th>white</th>\n",
       "      <th>black</th>\n",
       "      <th>api</th>\n",
       "      <th>native</th>\n",
       "      <th>multiple</th>\n",
       "      <th>hispanic</th>\n",
       "    </tr>\n",
       "  </thead>\n",
       "  <tbody>\n",
       "    <tr>\n",
       "      <th>0</th>\n",
       "      <td>HECTOR</td>\n",
       "      <td>0.0550</td>\n",
       "      <td>0.0045</td>\n",
       "      <td>0.0135</td>\n",
       "      <td>0.0000</td>\n",
       "      <td>0.0000</td>\n",
       "      <td>0.9270</td>\n",
       "    </tr>\n",
       "    <tr>\n",
       "      <th>1</th>\n",
       "      <td>PHILLIP</td>\n",
       "      <td>0.8961</td>\n",
       "      <td>0.0397</td>\n",
       "      <td>0.0301</td>\n",
       "      <td>0.0020</td>\n",
       "      <td>0.0023</td>\n",
       "      <td>0.0298</td>\n",
       "    </tr>\n",
       "    <tr>\n",
       "      <th>2</th>\n",
       "      <td>JANICE</td>\n",
       "      <td>0.9084</td>\n",
       "      <td>0.0602</td>\n",
       "      <td>0.0171</td>\n",
       "      <td>0.0017</td>\n",
       "      <td>0.0017</td>\n",
       "      <td>0.0108</td>\n",
       "    </tr>\n",
       "  </tbody>\n",
       "</table>\n",
       "</div>"
      ],
      "text/plain": [
       "      name   white   black     api  native  multiple  hispanic\n",
       "0   HECTOR  0.0550  0.0045  0.0135  0.0000    0.0000    0.9270\n",
       "1  PHILLIP  0.8961  0.0397  0.0301  0.0020    0.0023    0.0298\n",
       "2   JANICE  0.9084  0.0602  0.0171  0.0017    0.0017    0.0108"
      ]
     },
     "execution_count": 9,
     "metadata": {},
     "output_type": "execute_result"
    }
   ],
   "source": [
    "f.get_probabilities(first_names)"
   ]
  },
  {
   "cell_type": "code",
   "execution_count": 10,
   "metadata": {},
   "outputs": [
    {
     "data": {
      "text/html": [
       "<div>\n",
       "<style scoped>\n",
       "    .dataframe tbody tr th:only-of-type {\n",
       "        vertical-align: middle;\n",
       "    }\n",
       "\n",
       "    .dataframe tbody tr th {\n",
       "        vertical-align: top;\n",
       "    }\n",
       "\n",
       "    .dataframe thead th {\n",
       "        text-align: right;\n",
       "    }\n",
       "</style>\n",
       "<table border=\"1\" class=\"dataframe\">\n",
       "  <thead>\n",
       "    <tr style=\"text-align: right;\">\n",
       "      <th></th>\n",
       "      <th>name</th>\n",
       "      <th>white</th>\n",
       "      <th>black</th>\n",
       "      <th>api</th>\n",
       "      <th>native</th>\n",
       "      <th>multiple</th>\n",
       "      <th>hispanic</th>\n",
       "    </tr>\n",
       "  </thead>\n",
       "  <tbody>\n",
       "    <tr>\n",
       "      <th>0</th>\n",
       "      <td>DIAZ</td>\n",
       "      <td>0.0519</td>\n",
       "      <td>0.0065</td>\n",
       "      <td>0.0119</td>\n",
       "      <td>0.0016</td>\n",
       "      <td>0.0025</td>\n",
       "      <td>0.9256</td>\n",
       "    </tr>\n",
       "    <tr>\n",
       "      <th>1</th>\n",
       "      <td>JOHNSON</td>\n",
       "      <td>0.5897</td>\n",
       "      <td>0.3463</td>\n",
       "      <td>0.0054</td>\n",
       "      <td>0.0094</td>\n",
       "      <td>0.0256</td>\n",
       "      <td>0.0236</td>\n",
       "    </tr>\n",
       "    <tr>\n",
       "      <th>2</th>\n",
       "      <td>WASHINGTON</td>\n",
       "      <td>0.0517</td>\n",
       "      <td>0.8753</td>\n",
       "      <td>0.0030</td>\n",
       "      <td>0.0068</td>\n",
       "      <td>0.0378</td>\n",
       "      <td>0.0254</td>\n",
       "    </tr>\n",
       "  </tbody>\n",
       "</table>\n",
       "</div>"
      ],
      "text/plain": [
       "         name   white   black     api  native  multiple  hispanic\n",
       "0        DIAZ  0.0519  0.0065  0.0119  0.0016    0.0025    0.9256\n",
       "1     JOHNSON  0.5897  0.3463  0.0054  0.0094    0.0256    0.0236\n",
       "2  WASHINGTON  0.0517  0.8753  0.0030  0.0068    0.0378    0.0254"
      ]
     },
     "execution_count": 10,
     "metadata": {},
     "output_type": "execute_result"
    }
   ],
   "source": [
    "s.get_probabilities(surnames)"
   ]
  },
  {
   "cell_type": "code",
   "execution_count": 11,
   "metadata": {},
   "outputs": [
    {
     "data": {
      "text/html": [
       "<div>\n",
       "<style scoped>\n",
       "    .dataframe tbody tr th:only-of-type {\n",
       "        vertical-align: middle;\n",
       "    }\n",
       "\n",
       "    .dataframe tbody tr th {\n",
       "        vertical-align: top;\n",
       "    }\n",
       "\n",
       "    .dataframe thead th {\n",
       "        text-align: right;\n",
       "    }\n",
       "</style>\n",
       "<table border=\"1\" class=\"dataframe\">\n",
       "  <thead>\n",
       "    <tr style=\"text-align: right;\">\n",
       "      <th></th>\n",
       "      <th>zcta5</th>\n",
       "      <th>white</th>\n",
       "      <th>black</th>\n",
       "      <th>api</th>\n",
       "      <th>native</th>\n",
       "      <th>multiple</th>\n",
       "      <th>hispanic</th>\n",
       "    </tr>\n",
       "  </thead>\n",
       "  <tbody>\n",
       "    <tr>\n",
       "      <th>0</th>\n",
       "      <td>65201</td>\n",
       "      <td>0.815527</td>\n",
       "      <td>0.074888</td>\n",
       "      <td>0.053001</td>\n",
       "      <td>0.002288</td>\n",
       "      <td>0.023209</td>\n",
       "      <td>0.031089</td>\n",
       "    </tr>\n",
       "    <tr>\n",
       "      <th>1</th>\n",
       "      <td>63144</td>\n",
       "      <td>0.861114</td>\n",
       "      <td>0.028935</td>\n",
       "      <td>0.062862</td>\n",
       "      <td>0.001248</td>\n",
       "      <td>0.016907</td>\n",
       "      <td>0.028935</td>\n",
       "    </tr>\n",
       "    <tr>\n",
       "      <th>2</th>\n",
       "      <td>63110</td>\n",
       "      <td>0.518377</td>\n",
       "      <td>0.401548</td>\n",
       "      <td>0.031772</td>\n",
       "      <td>0.001817</td>\n",
       "      <td>0.024269</td>\n",
       "      <td>0.022217</td>\n",
       "    </tr>\n",
       "  </tbody>\n",
       "</table>\n",
       "</div>"
      ],
      "text/plain": [
       "   zcta5     white     black       api    native  multiple  hispanic\n",
       "0  65201  0.815527  0.074888  0.053001  0.002288  0.023209  0.031089\n",
       "1  63144  0.861114  0.028935  0.062862  0.001248  0.016907  0.028935\n",
       "2  63110  0.518377  0.401548  0.031772  0.001817  0.024269  0.022217"
      ]
     },
     "execution_count": 11,
     "metadata": {},
     "output_type": "execute_result"
    }
   ],
   "source": [
    "g.get_probabilities(zctas)"
   ]
  },
  {
   "cell_type": "code",
   "execution_count": 12,
   "metadata": {},
   "outputs": [
    {
     "data": {
      "text/html": [
       "<div>\n",
       "<style scoped>\n",
       "    .dataframe tbody tr th:only-of-type {\n",
       "        vertical-align: middle;\n",
       "    }\n",
       "\n",
       "    .dataframe tbody tr th {\n",
       "        vertical-align: top;\n",
       "    }\n",
       "\n",
       "    .dataframe thead th {\n",
       "        text-align: right;\n",
       "    }\n",
       "</style>\n",
       "<table border=\"1\" class=\"dataframe\">\n",
       "  <thead>\n",
       "    <tr style=\"text-align: right;\">\n",
       "      <th></th>\n",
       "      <th>zcta5</th>\n",
       "      <th>name</th>\n",
       "      <th>white</th>\n",
       "      <th>black</th>\n",
       "      <th>api</th>\n",
       "      <th>native</th>\n",
       "      <th>multiple</th>\n",
       "      <th>hispanic</th>\n",
       "    </tr>\n",
       "  </thead>\n",
       "  <tbody>\n",
       "    <tr>\n",
       "      <th>0</th>\n",
       "      <td>65201</td>\n",
       "      <td>DIAZ</td>\n",
       "      <td>0.264680</td>\n",
       "      <td>0.015885</td>\n",
       "      <td>0.051868</td>\n",
       "      <td>0.002006</td>\n",
       "      <td>0.011957</td>\n",
       "      <td>0.653604</td>\n",
       "    </tr>\n",
       "    <tr>\n",
       "      <th>1</th>\n",
       "      <td>63144</td>\n",
       "      <td>JOHNSON</td>\n",
       "      <td>0.872022</td>\n",
       "      <td>0.089793</td>\n",
       "      <td>0.007666</td>\n",
       "      <td>0.001766</td>\n",
       "      <td>0.024494</td>\n",
       "      <td>0.004259</td>\n",
       "    </tr>\n",
       "    <tr>\n",
       "      <th>2</th>\n",
       "      <td>63110</td>\n",
       "      <td>WASHINGTON</td>\n",
       "      <td>0.014138</td>\n",
       "      <td>0.967599</td>\n",
       "      <td>0.000661</td>\n",
       "      <td>0.000571</td>\n",
       "      <td>0.015949</td>\n",
       "      <td>0.001081</td>\n",
       "    </tr>\n",
       "  </tbody>\n",
       "</table>\n",
       "</div>"
      ],
      "text/plain": [
       "   zcta5        name     white     black       api    native  multiple  \\\n",
       "0  65201        DIAZ  0.264680  0.015885  0.051868  0.002006  0.011957   \n",
       "1  63144     JOHNSON  0.872022  0.089793  0.007666  0.001766  0.024494   \n",
       "2  63110  WASHINGTON  0.014138  0.967599  0.000661  0.000571  0.015949   \n",
       "\n",
       "   hispanic  \n",
       "0  0.653604  \n",
       "1  0.004259  \n",
       "2  0.001081  "
      ]
     },
     "execution_count": 12,
     "metadata": {},
     "output_type": "execute_result"
    }
   ],
   "source": [
    "sg.get_probabilities(surnames, zctas)"
   ]
  }
 ],
 "metadata": {
  "kernelspec": {
   "display_name": "Python 3",
   "language": "python",
   "name": "python3"
  },
  "language_info": {
   "codemirror_mode": {
    "name": "ipython",
    "version": 3
   },
   "file_extension": ".py",
   "mimetype": "text/x-python",
   "name": "python",
   "nbconvert_exporter": "python",
   "pygments_lexer": "ipython3",
   "version": "3.8.5"
  }
 },
 "nbformat": 4,
 "nbformat_minor": 2
}
