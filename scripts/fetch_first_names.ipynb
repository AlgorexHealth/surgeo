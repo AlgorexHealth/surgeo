{
 "cells": [
  {
   "cell_type": "code",
   "execution_count": 1,
   "metadata": {},
   "outputs": [],
   "source": [
    "import io\n",
    "import pathlib\n",
    "import urllib.request\n",
    "\n",
    "import numpy as np\n",
    "import openpyxl\n",
    "import pandas as pd"
   ]
  },
  {
   "cell_type": "markdown",
   "metadata": {},
   "source": [
    "# Background (links good as of 2021-01-22)\n",
    "\n",
    "This fetches data from the following Excel file:\n",
    "\n",
    "https://dataverse.harvard.edu/api/access/datafile/3078263?format=original&gbrecs=true\n",
    "\n",
    "This excel file contains race data based on the first names. The script creates dataframes from the worksheet in this excel file. It then cleans them the data.\n",
    "\n",
    "Information about the contents of these files may be found here:\n",
    "\n",
    "https://dataverse.harvard.edu/dataset.xhtml?persistentId=doi:10.7910/DVN/TYJKEZ#\n",
    "\n",
    "It then the data for use in Surgeo calculations.\n"
   ]
  },
  {
   "cell_type": "markdown",
   "metadata": {},
   "source": [
    "# Constants"
   ]
  },
  {
   "cell_type": "code",
   "execution_count": 2,
   "metadata": {},
   "outputs": [],
   "source": [
    "HARVARD_FIRST_NAME_URL = 'https://dataverse.harvard.edu/api/access/datafile/3078263?format=original&gbrecs=true'\n",
    "\n",
    "HARVARD_FIRST_NAME_COLUMNS = [\n",
    "    'firstname',\n",
    "    'obs',\n",
    "    'pcthispanic',\n",
    "    'pctwhite',\n",
    "    'pctblack',\n",
    "    'pctapi',\n",
    "    'pctaian',\n",
    "    'pct2prace',\n",
    "    'NaN',\n",
    "]\n",
    "\n",
    "TARGET_FIRST_NAME_COLUMNS = [\n",
    "    'firstname',\n",
    "    'pctwhite',\n",
    "    'pctblack',\n",
    "    'pctapi',\n",
    "    'pctaian',\n",
    "    'pct2prace',\n",
    "    'pcthispanic',\n",
    "]\n",
    "\n",
    "TARGET_COLUMN_RENAMES = {\n",
    "    'firstname': 'name',\n",
    "    'pcthispanic': 'hispanic',\n",
    "    'pctwhite': 'white',\n",
    "    'pctblack': 'black',\n",
    "    'pctapi': 'api',\n",
    "    'pctaian': 'native',\n",
    "    'pct2prace': 'multiple',\n",
    "}"
   ]
  },
  {
   "cell_type": "markdown",
   "metadata": {},
   "source": [
    "## Download First Name Data"
   ]
  },
  {
   "cell_type": "code",
   "execution_count": 3,
   "metadata": {},
   "outputs": [],
   "source": [
    "def url_to_df(url):\n",
    "    '''Takes the URL of a the Harvard first name excel file and converts to DF\n",
    "    '''\n",
    "    # Download zipfile from census URL\n",
    "    with urllib.request.urlopen(url) as response:\n",
    "        # Write file into BytesIO object\n",
    "        excel_data = io.BytesIO(response.read())\n",
    "        # Open excel data as openpyxl workbook\n",
    "        ef = openpyxl.load_workbook(excel_data)\n",
    "        # Get the correct worksheet\n",
    "        ws_data = ef.get_sheet_by_name('Data')\n",
    "        # Extract the worsheet data\n",
    "        raw_data = ws_data.values\n",
    "        # Get the column names\n",
    "        cols = next(raw_data)\n",
    "        # Get the actual data\n",
    "        values = list(raw_data)\n",
    "        # Create dataframe\n",
    "        df = pd.DataFrame(values, columns=cols)\n",
    "        return df"
   ]
  },
  {
   "cell_type": "code",
   "execution_count": 4,
   "metadata": {},
   "outputs": [],
   "source": [
    "df_harvard = url_to_df(HARVARD_FIRST_NAME_URL)"
   ]
  },
  {
   "cell_type": "code",
   "execution_count": 5,
   "metadata": {},
   "outputs": [
    {
     "output_type": "execute_result",
     "data": {
      "text/plain": [
       "                  firstname     obs  pcthispanic  pctwhite  pctblack  pctapi  \\\n",
       "4246                  ZOFIA      55        0.000   100.000     0.000   0.000   \n",
       "4247                  ZOILA      66       86.364    12.121     1.515   0.000   \n",
       "4248                 ZOLTAN      47        6.383    87.234     4.255   2.128   \n",
       "4249                  ZORAN      52        0.000   100.000     0.000   0.000   \n",
       "4250  ALL OTHER FIRST NAMES  214124        8.226    51.422    11.541  28.117   \n",
       "\n",
       "      pctaian  pct2prace   NaN  \n",
       "4246    0.000      0.000  None  \n",
       "4247    0.000      0.000  None  \n",
       "4248    0.000      0.000  None  \n",
       "4249    0.000      0.000  None  \n",
       "4250    0.396      0.298  None  "
      ],
      "text/html": "<div>\n<style scoped>\n    .dataframe tbody tr th:only-of-type {\n        vertical-align: middle;\n    }\n\n    .dataframe tbody tr th {\n        vertical-align: top;\n    }\n\n    .dataframe thead th {\n        text-align: right;\n    }\n</style>\n<table border=\"1\" class=\"dataframe\">\n  <thead>\n    <tr style=\"text-align: right;\">\n      <th></th>\n      <th>firstname</th>\n      <th>obs</th>\n      <th>pcthispanic</th>\n      <th>pctwhite</th>\n      <th>pctblack</th>\n      <th>pctapi</th>\n      <th>pctaian</th>\n      <th>pct2prace</th>\n      <th>NaN</th>\n    </tr>\n  </thead>\n  <tbody>\n    <tr>\n      <th>4246</th>\n      <td>ZOFIA</td>\n      <td>55</td>\n      <td>0.000</td>\n      <td>100.000</td>\n      <td>0.000</td>\n      <td>0.000</td>\n      <td>0.000</td>\n      <td>0.000</td>\n      <td>None</td>\n    </tr>\n    <tr>\n      <th>4247</th>\n      <td>ZOILA</td>\n      <td>66</td>\n      <td>86.364</td>\n      <td>12.121</td>\n      <td>1.515</td>\n      <td>0.000</td>\n      <td>0.000</td>\n      <td>0.000</td>\n      <td>None</td>\n    </tr>\n    <tr>\n      <th>4248</th>\n      <td>ZOLTAN</td>\n      <td>47</td>\n      <td>6.383</td>\n      <td>87.234</td>\n      <td>4.255</td>\n      <td>2.128</td>\n      <td>0.000</td>\n      <td>0.000</td>\n      <td>None</td>\n    </tr>\n    <tr>\n      <th>4249</th>\n      <td>ZORAN</td>\n      <td>52</td>\n      <td>0.000</td>\n      <td>100.000</td>\n      <td>0.000</td>\n      <td>0.000</td>\n      <td>0.000</td>\n      <td>0.000</td>\n      <td>None</td>\n    </tr>\n    <tr>\n      <th>4250</th>\n      <td>ALL OTHER FIRST NAMES</td>\n      <td>214124</td>\n      <td>8.226</td>\n      <td>51.422</td>\n      <td>11.541</td>\n      <td>28.117</td>\n      <td>0.396</td>\n      <td>0.298</td>\n      <td>None</td>\n    </tr>\n  </tbody>\n</table>\n</div>"
     },
     "metadata": {},
     "execution_count": 5
    }
   ],
   "source": [
    "df_harvard.tail()"
   ]
  },
  {
   "cell_type": "markdown",
   "metadata": {},
   "source": [
    "# Clean Data"
   ]
  },
  {
   "cell_type": "code",
   "execution_count": 6,
   "metadata": {},
   "outputs": [],
   "source": [
    "def clean_df(df):\n",
    "    '''Change column names, set index, and convert percentages'''\n",
    "    # Change names\n",
    "    df.columns = HARVARD_FIRST_NAME_COLUMNS\n",
    "    # Filter columns\n",
    "    df = df[TARGET_FIRST_NAME_COLUMNS]\n",
    "    # Rename columns\n",
    "    df = df.rename(columns=TARGET_COLUMN_RENAMES)\n",
    "    # Set index to name\n",
    "    df = df.set_index('name')\n",
    "    # Sort index\n",
    "    df = df.sort_index()\n",
    "    # Convert percentages to 0 to 1 numbers\n",
    "    df = df / 100\n",
    "    return df"
   ]
  },
  {
   "cell_type": "code",
   "execution_count": 7,
   "metadata": {},
   "outputs": [],
   "source": [
    "df_harvard = clean_df(df_harvard)"
   ]
  },
  {
   "cell_type": "code",
   "execution_count": 8,
   "metadata": {},
   "outputs": [
    {
     "output_type": "execute_result",
     "data": {
      "text/plain": [
       "          white    black      api  native  multiple  hispanic\n",
       "name                                                         \n",
       "ZOE     0.87255  0.04902  0.03922     0.0       0.0   0.03922\n",
       "ZOFIA   1.00000  0.00000  0.00000     0.0       0.0   0.00000\n",
       "ZOILA   0.12121  0.01515  0.00000     0.0       0.0   0.86364\n",
       "ZOLTAN  0.87234  0.04255  0.02128     0.0       0.0   0.06383\n",
       "ZORAN   1.00000  0.00000  0.00000     0.0       0.0   0.00000"
      ],
      "text/html": "<div>\n<style scoped>\n    .dataframe tbody tr th:only-of-type {\n        vertical-align: middle;\n    }\n\n    .dataframe tbody tr th {\n        vertical-align: top;\n    }\n\n    .dataframe thead th {\n        text-align: right;\n    }\n</style>\n<table border=\"1\" class=\"dataframe\">\n  <thead>\n    <tr style=\"text-align: right;\">\n      <th></th>\n      <th>white</th>\n      <th>black</th>\n      <th>api</th>\n      <th>native</th>\n      <th>multiple</th>\n      <th>hispanic</th>\n    </tr>\n    <tr>\n      <th>name</th>\n      <th></th>\n      <th></th>\n      <th></th>\n      <th></th>\n      <th></th>\n      <th></th>\n    </tr>\n  </thead>\n  <tbody>\n    <tr>\n      <th>ZOE</th>\n      <td>0.87255</td>\n      <td>0.04902</td>\n      <td>0.03922</td>\n      <td>0.0</td>\n      <td>0.0</td>\n      <td>0.03922</td>\n    </tr>\n    <tr>\n      <th>ZOFIA</th>\n      <td>1.00000</td>\n      <td>0.00000</td>\n      <td>0.00000</td>\n      <td>0.0</td>\n      <td>0.0</td>\n      <td>0.00000</td>\n    </tr>\n    <tr>\n      <th>ZOILA</th>\n      <td>0.12121</td>\n      <td>0.01515</td>\n      <td>0.00000</td>\n      <td>0.0</td>\n      <td>0.0</td>\n      <td>0.86364</td>\n    </tr>\n    <tr>\n      <th>ZOLTAN</th>\n      <td>0.87234</td>\n      <td>0.04255</td>\n      <td>0.02128</td>\n      <td>0.0</td>\n      <td>0.0</td>\n      <td>0.06383</td>\n    </tr>\n    <tr>\n      <th>ZORAN</th>\n      <td>1.00000</td>\n      <td>0.00000</td>\n      <td>0.00000</td>\n      <td>0.0</td>\n      <td>0.0</td>\n      <td>0.00000</td>\n    </tr>\n  </tbody>\n</table>\n</div>"
     },
     "metadata": {},
     "execution_count": 8
    }
   ],
   "source": [
    "df_harvard.tail()"
   ]
  },
  {
   "cell_type": "code",
   "execution_count": 9,
   "metadata": {
    "scrolled": false
   },
   "outputs": [],
   "source": [
    "# Round to 4 digits\n",
    "df_harvard = df_harvard.round(4)"
   ]
  },
  {
   "cell_type": "code",
   "execution_count": 10,
   "metadata": {
    "scrolled": true
   },
   "outputs": [
    {
     "output_type": "execute_result",
     "data": {
      "text/plain": [
       "         white   black     api  native  multiple  hispanic\n",
       "name                                                      \n",
       "ZOE     0.8726  0.0490  0.0392     0.0       0.0    0.0392\n",
       "ZOFIA   1.0000  0.0000  0.0000     0.0       0.0    0.0000\n",
       "ZOILA   0.1212  0.0151  0.0000     0.0       0.0    0.8636\n",
       "ZOLTAN  0.8723  0.0426  0.0213     0.0       0.0    0.0638\n",
       "ZORAN   1.0000  0.0000  0.0000     0.0       0.0    0.0000"
      ],
      "text/html": "<div>\n<style scoped>\n    .dataframe tbody tr th:only-of-type {\n        vertical-align: middle;\n    }\n\n    .dataframe tbody tr th {\n        vertical-align: top;\n    }\n\n    .dataframe thead th {\n        text-align: right;\n    }\n</style>\n<table border=\"1\" class=\"dataframe\">\n  <thead>\n    <tr style=\"text-align: right;\">\n      <th></th>\n      <th>white</th>\n      <th>black</th>\n      <th>api</th>\n      <th>native</th>\n      <th>multiple</th>\n      <th>hispanic</th>\n    </tr>\n    <tr>\n      <th>name</th>\n      <th></th>\n      <th></th>\n      <th></th>\n      <th></th>\n      <th></th>\n      <th></th>\n    </tr>\n  </thead>\n  <tbody>\n    <tr>\n      <th>ZOE</th>\n      <td>0.8726</td>\n      <td>0.0490</td>\n      <td>0.0392</td>\n      <td>0.0</td>\n      <td>0.0</td>\n      <td>0.0392</td>\n    </tr>\n    <tr>\n      <th>ZOFIA</th>\n      <td>1.0000</td>\n      <td>0.0000</td>\n      <td>0.0000</td>\n      <td>0.0</td>\n      <td>0.0</td>\n      <td>0.0000</td>\n    </tr>\n    <tr>\n      <th>ZOILA</th>\n      <td>0.1212</td>\n      <td>0.0151</td>\n      <td>0.0000</td>\n      <td>0.0</td>\n      <td>0.0</td>\n      <td>0.8636</td>\n    </tr>\n    <tr>\n      <th>ZOLTAN</th>\n      <td>0.8723</td>\n      <td>0.0426</td>\n      <td>0.0213</td>\n      <td>0.0</td>\n      <td>0.0</td>\n      <td>0.0638</td>\n    </tr>\n    <tr>\n      <th>ZORAN</th>\n      <td>1.0000</td>\n      <td>0.0000</td>\n      <td>0.0000</td>\n      <td>0.0</td>\n      <td>0.0</td>\n      <td>0.0000</td>\n    </tr>\n  </tbody>\n</table>\n</div>"
     },
     "metadata": {},
     "execution_count": 10
    }
   ],
   "source": [
    "df_harvard.tail()"
   ]
  },
  {
   "cell_type": "markdown",
   "metadata": {},
   "source": [
    "# Write data to module as CSV"
   ]
  },
  {
   "cell_type": "code",
   "execution_count": 11,
   "metadata": {},
   "outputs": [],
   "source": [
    "current_directory = pathlib.Path().cwd()\n",
    "project_directory = current_directory.parents[0]\n",
    "data_directory    = project_directory / 'surgeo' / 'data'\n",
    "path_harvard      = data_directory / 'prob_race_given_first_name_harvard.csv'\n",
    "df_harvard.to_csv(path_harvard)"
   ]
  },
  {
   "source": [
    "# Create the reverse mapping data"
   ],
   "cell_type": "markdown",
   "metadata": {}
  },
  {
   "cell_type": "code",
   "execution_count": 12,
   "metadata": {},
   "outputs": [],
   "source": [
    "column_totals = df_harvard.sum(axis=0).divide(100.0)\n",
    "ratio_by_column = df_harvard.divide(column_totals, axis='columns').copy()"
   ]
  },
  {
   "cell_type": "code",
   "execution_count": 13,
   "metadata": {},
   "outputs": [
    {
     "output_type": "execute_result",
     "data": {
      "text/plain": [
       "           white     black       api  native  multiple  hispanic\n",
       "name                                                            \n",
       "ZOE     0.031176  0.020898  0.005225     0.0       0.0  0.008734\n",
       "ZOFIA   0.035728  0.000000  0.000000     0.0       0.0  0.000000\n",
       "ZOILA   0.004330  0.006440  0.000000     0.0       0.0  0.192423\n",
       "ZOLTAN  0.031165  0.018168  0.002839     0.0       0.0  0.014216\n",
       "ZORAN   0.035728  0.000000  0.000000     0.0       0.0  0.000000"
      ],
      "text/html": "<div>\n<style scoped>\n    .dataframe tbody tr th:only-of-type {\n        vertical-align: middle;\n    }\n\n    .dataframe tbody tr th {\n        vertical-align: top;\n    }\n\n    .dataframe thead th {\n        text-align: right;\n    }\n</style>\n<table border=\"1\" class=\"dataframe\">\n  <thead>\n    <tr style=\"text-align: right;\">\n      <th></th>\n      <th>white</th>\n      <th>black</th>\n      <th>api</th>\n      <th>native</th>\n      <th>multiple</th>\n      <th>hispanic</th>\n    </tr>\n    <tr>\n      <th>name</th>\n      <th></th>\n      <th></th>\n      <th></th>\n      <th></th>\n      <th></th>\n      <th></th>\n    </tr>\n  </thead>\n  <tbody>\n    <tr>\n      <th>ZOE</th>\n      <td>0.031176</td>\n      <td>0.020898</td>\n      <td>0.005225</td>\n      <td>0.0</td>\n      <td>0.0</td>\n      <td>0.008734</td>\n    </tr>\n    <tr>\n      <th>ZOFIA</th>\n      <td>0.035728</td>\n      <td>0.000000</td>\n      <td>0.000000</td>\n      <td>0.0</td>\n      <td>0.0</td>\n      <td>0.000000</td>\n    </tr>\n    <tr>\n      <th>ZOILA</th>\n      <td>0.004330</td>\n      <td>0.006440</td>\n      <td>0.000000</td>\n      <td>0.0</td>\n      <td>0.0</td>\n      <td>0.192423</td>\n    </tr>\n    <tr>\n      <th>ZOLTAN</th>\n      <td>0.031165</td>\n      <td>0.018168</td>\n      <td>0.002839</td>\n      <td>0.0</td>\n      <td>0.0</td>\n      <td>0.014216</td>\n    </tr>\n    <tr>\n      <th>ZORAN</th>\n      <td>0.035728</td>\n      <td>0.000000</td>\n      <td>0.000000</td>\n      <td>0.0</td>\n      <td>0.0</td>\n      <td>0.000000</td>\n    </tr>\n  </tbody>\n</table>\n</div>"
     },
     "metadata": {},
     "execution_count": 13
    }
   ],
   "source": [
    "ratio_by_column.tail()"
   ]
  },
  {
   "cell_type": "code",
   "execution_count": 14,
   "metadata": {},
   "outputs": [],
   "source": [
    "# Prob first name given race\n",
    "rbc_path = data_directory / 'prob_first_name_given_race_harvard.csv'\n",
    "ratio_by_column.to_csv(rbc_path)"
   ]
  }
 ],
 "metadata": {
  "kernelspec": {
   "display_name": "Python 3",
   "language": "python",
   "name": "python3"
  },
  "language_info": {
   "codemirror_mode": {
    "name": "ipython",
    "version": 3
   },
   "file_extension": ".py",
   "mimetype": "text/x-python",
   "name": "python",
   "nbconvert_exporter": "python",
   "pygments_lexer": "ipython3",
   "version": "3.8.6-final"
  }
 },
 "nbformat": 4,
 "nbformat_minor": 2
}