{
 "cells": [
  {
   "cell_type": "code",
   "execution_count": 1,
   "metadata": {},
   "outputs": [],
   "source": [
    "import surgeo\n",
    "import pandas as pd\n",
    "import numpy as np"
   ]
  },
  {
   "cell_type": "code",
   "execution_count": 2,
   "metadata": {},
   "outputs": [
    {
     "data": {
      "text/plain": [
       "'2010.1.1'"
      ]
     },
     "execution_count": 2,
     "metadata": {},
     "output_type": "execute_result"
    }
   ],
   "source": [
    "surgeo.VERSION"
   ]
  },
  {
   "cell_type": "code",
   "execution_count": 3,
   "metadata": {},
   "outputs": [],
   "source": [
    "g = surgeo.GeocodeModel()\n",
    "s = surgeo.SurnameModel()\n",
    "sg = surgeo.SurgeoModel()"
   ]
  },
  {
   "cell_type": "code",
   "execution_count": 4,
   "metadata": {},
   "outputs": [],
   "source": [
    "surnames = pd.Series([\n",
    "    'JONES',\n",
    "    'DAVIDSON',\n",
    "    12345,\n",
    "    np.NaN\n",
    "])"
   ]
  },
  {
   "cell_type": "code",
   "execution_count": 15,
   "metadata": {},
   "outputs": [
    {
     "data": {
      "text/plain": [
       "'.xlsx'"
      ]
     },
     "execution_count": 15,
     "metadata": {},
     "output_type": "execute_result"
    }
   ],
   "source": [
    "import pathlib\n",
    "\n",
    "pathlib.Path('./ask.xlsx').suffix"
   ]
  },
  {
   "cell_type": "code",
   "execution_count": 10,
   "metadata": {},
   "outputs": [],
   "source": [
    "zips = pd.Series([\n",
    "    63144,\n",
    "    '63110',\n",
    "    np.NaN,\n",
    "    #63144\n",
    "])"
   ]
  },
  {
   "cell_type": "code",
   "execution_count": null,
   "metadata": {},
   "outputs": [],
   "source": []
  },
  {
   "cell_type": "markdown",
   "metadata": {},
   "source": [
    "$\n",
    "q(i \\mid j,k) = \\frac\n",
    "    {\\large{u(i,j,k)}}\n",
    "    {\\large{u(1,j,k) \\; + \\; u(2,j,k) \\; + \\; u(3,j,k) \\; + \\; u(4,j,k) \\; + \\; u(5,j,k) \\; + \\; u(6,j,k)}} \\\\[25px]\n",
    "\\text{Where:} \\\\\n",
    "\\hspace{25px} u(i,j,k) = P(i \\mid j) \\times r(k \\mid i)\\\\[25px]\n",
    "\\text{And where:} \\\\\n",
    "    \\hspace{25px}\\text{\\( k \\) is Census Block} \\\\\n",
    "    \\hspace{25px}\\text{\\( j \\) is Surname} \\\\\n",
    "    \\hspace{25px}\\text{\\( i \\) is Race} \\\\\n",
    "        \\hspace{50px}\\text{1 = Hispanic} \\\\\n",
    "        \\hspace{50px}\\text{2 = White} \\\\\n",
    "        \\hspace{50px}\\text{3 = Black} \\\\\n",
    "        \\hspace{50px}\\text{4 = Asian or Pacific Islander} \\\\\n",
    "        \\hspace{50px}\\text{5 = American Indian / Alaska Native} \\\\\n",
    "        \\hspace{50px}\\text{6 = Multiracial} \\\\\n",
    "$"
   ]
  },
  {
   "cell_type": "markdown",
   "metadata": {},
   "source": [
    "    Where k is census block\n",
    "    Where j is surname\n",
    "    Where i is race (1 = Hispanic, \n",
    "                     2 = White, \n",
    "                     3 = Black, \n",
    "                     4 = Asian or Pacific Islander, \n",
    "                     5 = American Indian / Alaska Native, \n",
    "                     6 = Multiracial)\n",
    "\n",
    "    Where u(i,j,k) = p(i|j) * r(k|i):\n",
    "\n",
    "                                          u(i,j,k)\n",
    "    q(i|j,k) = ---------------------------------------------------------------\n",
    "               u(1,j,k) + u(2,j,k) + u(3,j,k) + u(4,j,k) + u(5,j,k) + u(6,j,k)"
   ]
  },
  {
   "cell_type": "code",
   "execution_count": null,
   "metadata": {},
   "outputs": [],
   "source": []
  },
  {
   "cell_type": "code",
   "execution_count": null,
   "metadata": {},
   "outputs": [],
   "source": []
  }
 ],
 "metadata": {
  "kernelspec": {
   "display_name": "Python 3",
   "language": "python",
   "name": "python3"
  },
  "language_info": {
   "codemirror_mode": {
    "name": "ipython",
    "version": 3
   },
   "file_extension": ".py",
   "mimetype": "text/x-python",
   "name": "python",
   "nbconvert_exporter": "python",
   "pygments_lexer": "ipython3",
   "version": "3.7.3"
  }
 },
 "nbformat": 4,
 "nbformat_minor": 2
}
